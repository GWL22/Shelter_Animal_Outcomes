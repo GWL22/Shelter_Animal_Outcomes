{
 "cells": [
  {
   "cell_type": "code",
   "execution_count": 1,
   "metadata": {
    "collapsed": true
   },
   "outputs": [],
   "source": [
    "import pandas as pd\n",
    "import seaborn as sns\n",
    "import numpy as np\n",
    "import matplotlib.pyplot as plt"
   ]
  },
  {
   "cell_type": "code",
   "execution_count": 2,
   "metadata": {
    "collapsed": false
   },
   "outputs": [
    {
     "name": "stdout",
     "output_type": "stream",
     "text": [
      "['AnimalID', 'Name', 'DateTime', 'OutcomeType', 'OutcomeSubtype', 'AnimalType', 'SexuponOutcome', 'AgeuponOutcome', 'Breed', 'Color']\n"
     ]
    }
   ],
   "source": [
    "test_file = './dataset/train.csv'\n",
    "with open(test_file, 'rb') as header_file:\n",
    "    headers = header_file.readline().strip().split(',')\n",
    "print headers"
   ]
  },
  {
   "cell_type": "code",
   "execution_count": 3,
   "metadata": {
    "collapsed": false
   },
   "outputs": [
    {
     "name": "stdout",
     "output_type": "stream",
     "text": [
      "['DateTime', 'OutcomeType', 'AnimalType', 'SexuponOutcome', 'AgeuponOutcome', 'Breed', 'Color']\n"
     ]
    }
   ],
   "source": [
    "usecols = headers[2:4] + headers[5:]\n",
    "print usecols"
   ]
  },
  {
   "cell_type": "code",
   "execution_count": 4,
   "metadata": {
    "collapsed": true
   },
   "outputs": [],
   "source": [
    "df = pd.read_csv( test_file, usecols=usecols).dropna()"
   ]
  },
  {
   "cell_type": "code",
   "execution_count": 5,
   "metadata": {
    "collapsed": false
   },
   "outputs": [
    {
     "data": {
      "text/plain": [
       "26710"
      ]
     },
     "execution_count": 5,
     "metadata": {},
     "output_type": "execute_result"
    }
   ],
   "source": [
    "len(df)"
   ]
  },
  {
   "cell_type": "code",
   "execution_count": 6,
   "metadata": {
    "collapsed": false
   },
   "outputs": [
    {
     "data": {
      "text/html": [
       "<div>\n",
       "<table border=\"1\" class=\"dataframe\">\n",
       "  <thead>\n",
       "    <tr style=\"text-align: right;\">\n",
       "      <th></th>\n",
       "      <th>DateTime</th>\n",
       "      <th>OutcomeType</th>\n",
       "      <th>AnimalType</th>\n",
       "      <th>SexuponOutcome</th>\n",
       "      <th>AgeuponOutcome</th>\n",
       "      <th>Breed</th>\n",
       "      <th>Color</th>\n",
       "    </tr>\n",
       "  </thead>\n",
       "  <tbody>\n",
       "    <tr>\n",
       "      <th>26726</th>\n",
       "      <td>2015-03-09 13:33:00</td>\n",
       "      <td>Adoption</td>\n",
       "      <td>Dog</td>\n",
       "      <td>Neutered Male</td>\n",
       "      <td>4 years</td>\n",
       "      <td>Old English Bulldog Mix</td>\n",
       "      <td>White/Tan</td>\n",
       "    </tr>\n",
       "    <tr>\n",
       "      <th>26727</th>\n",
       "      <td>2014-04-27 12:22:00</td>\n",
       "      <td>Transfer</td>\n",
       "      <td>Cat</td>\n",
       "      <td>Intact Male</td>\n",
       "      <td>4 weeks</td>\n",
       "      <td>Domestic Shorthair Mix</td>\n",
       "      <td>Black</td>\n",
       "    </tr>\n",
       "    <tr>\n",
       "      <th>26728</th>\n",
       "      <td>2015-07-02 09:00:00</td>\n",
       "      <td>Transfer</td>\n",
       "      <td>Cat</td>\n",
       "      <td>Intact Male</td>\n",
       "      <td>1 year</td>\n",
       "      <td>Domestic Shorthair Mix</td>\n",
       "      <td>Brown Tabby/White</td>\n",
       "    </tr>\n",
       "  </tbody>\n",
       "</table>\n",
       "</div>"
      ],
      "text/plain": [
       "                  DateTime OutcomeType AnimalType SexuponOutcome  \\\n",
       "26726  2015-03-09 13:33:00    Adoption        Dog  Neutered Male   \n",
       "26727  2014-04-27 12:22:00    Transfer        Cat    Intact Male   \n",
       "26728  2015-07-02 09:00:00    Transfer        Cat    Intact Male   \n",
       "\n",
       "      AgeuponOutcome                    Breed              Color  \n",
       "26726        4 years  Old English Bulldog Mix          White/Tan  \n",
       "26727        4 weeks   Domestic Shorthair Mix              Black  \n",
       "26728         1 year   Domestic Shorthair Mix  Brown Tabby/White  "
      ]
     },
     "execution_count": 6,
     "metadata": {},
     "output_type": "execute_result"
    }
   ],
   "source": [
    "df.tail(3)"
   ]
  },
  {
   "cell_type": "code",
   "execution_count": null,
   "metadata": {
    "collapsed": false
   },
   "outputs": [],
   "source": [
    "print len(set(df['Breed']))\n",
    "# print set(df['Breed'])"
   ]
  },
  {
   "cell_type": "code",
   "execution_count": null,
   "metadata": {
    "collapsed": false
   },
   "outputs": [],
   "source": [
    "sns.countplot(df.OutcomeType)\n",
    "plt.title('Outcome Type')\n",
    "plt.show()"
   ]
  },
  {
   "cell_type": "code",
   "execution_count": null,
   "metadata": {
    "collapsed": false
   },
   "outputs": [],
   "source": [
    "sns.countplot(data = df, x='OutcomeType', hue='AnimalType')\n",
    "plt.title('OutcomeType with AnimalType')\n",
    "plt.show()"
   ]
  },
  {
   "cell_type": "code",
   "execution_count": null,
   "metadata": {
    "collapsed": false
   },
   "outputs": [],
   "source": [
    "sns.countplot(df.AnimalType)\n",
    "plt.title('Animal type in shelter')\n",
    "plt.show()"
   ]
  },
  {
   "cell_type": "code",
   "execution_count": null,
   "metadata": {
    "collapsed": false
   },
   "outputs": [],
   "source": [
    "sns.countplot(df.SexuponOutcome)\n",
    "plt.title('Sex distribution in shelter')\n",
    "plt.show()"
   ]
  },
  {
   "cell_type": "code",
   "execution_count": null,
   "metadata": {
    "collapsed": false
   },
   "outputs": [],
   "source": [
    "sns.countplot(data=df, x='SexuponOutcome', hue='OutcomeType')\n",
    "plt.title('SexuponOutcome with OutcomeType')\n",
    "plt.show()"
   ]
  },
  {
   "cell_type": "code",
   "execution_count": null,
   "metadata": {
    "collapsed": false
   },
   "outputs": [],
   "source": [
    "sns.countplot(data=df, x='SexuponOutcome', hue='AnimalType')\n",
    "plt.title('SexuponOutcome with AnimalType')\n",
    "plt.show()"
   ]
  },
  {
   "cell_type": "code",
   "execution_count": null,
   "metadata": {
    "collapsed": false
   },
   "outputs": [],
   "source": [
    "df['AgeuponOutcome'].tail()"
   ]
  },
  {
   "cell_type": "code",
   "execution_count": 7,
   "metadata": {
    "collapsed": true
   },
   "outputs": [],
   "source": [
    "test = df['AgeuponOutcome']"
   ]
  },
  {
   "cell_type": "code",
   "execution_count": 8,
   "metadata": {
    "collapsed": false
   },
   "outputs": [],
   "source": [
    "for row, index in zip(test, test.index):\n",
    "    item = row.split(' ')\n",
    "    item[0] = int(item[0])\n",
    "    if 'year' in item[1]:\n",
    "        test[index] = item[0] * 365\n",
    "    elif 'month' in item[1]:\n",
    "        test[index] = item[0] * 30\n",
    "    elif 'week' in item[1]:\n",
    "        test[index] = item[0] * 7\n",
    "    elif 'day' in item[1]:\n",
    "        test[index] = item[0]"
   ]
  },
  {
   "cell_type": "code",
   "execution_count": null,
   "metadata": {
    "collapsed": false
   },
   "outputs": [],
   "source": [
    "sns.countplot(df.AgeuponOutcome)\n",
    "plt.title('AgeuponOutcome - day')\n",
    "plt.show()"
   ]
  },
  {
   "cell_type": "code",
   "execution_count": 9,
   "metadata": {
    "collapsed": false
   },
   "outputs": [],
   "source": [
    "df['AgeOutcomeYear'] = [x/365 for x in df['AgeuponOutcome']]"
   ]
  },
  {
   "cell_type": "code",
   "execution_count": null,
   "metadata": {
    "collapsed": false
   },
   "outputs": [],
   "source": [
    "sns.countplot(df.AgeOutcomeYear)\n",
    "plt.title('AgeuponOutcome - Year')\n",
    "plt.show()"
   ]
  },
  {
   "cell_type": "code",
   "execution_count": null,
   "metadata": {
    "collapsed": false
   },
   "outputs": [],
   "source": [
    "sns.countplot(data=df, x='AgeOutcomeYear', hue='AnimalType')\n",
    "plt.title('Age(Year) with AnimalType')\n",
    "plt.show()"
   ]
  },
  {
   "cell_type": "code",
   "execution_count": null,
   "metadata": {
    "collapsed": false
   },
   "outputs": [],
   "source": [
    "sns.countplot(data=df, x='AgeOutcomeYear', hue='OutcomeType')\n",
    "plt.title('Age(year) with OutcomeType')\n",
    "plt.show()"
   ]
  },
  {
   "cell_type": "code",
   "execution_count": 10,
   "metadata": {
    "collapsed": true
   },
   "outputs": [],
   "source": [
    "df['AgeOutcomeMonth'] = [x/30 for x in df['AgeuponOutcome']]"
   ]
  },
  {
   "cell_type": "code",
   "execution_count": null,
   "metadata": {
    "collapsed": false
   },
   "outputs": [],
   "source": [
    "sns.countplot(df.AgeOutcomeMonth)\n",
    "plt.title('AgeuponOutcome - Month')\n",
    "plt.show()"
   ]
  },
  {
   "cell_type": "code",
   "execution_count": null,
   "metadata": {
    "collapsed": false
   },
   "outputs": [],
   "source": [
    "sns.countplot(data=df, x='AgeOutcomeMonth', hue='AnimalType')\n",
    "plt.title('Age(Month) with AnimalType')\n",
    "plt.show()"
   ]
  },
  {
   "cell_type": "code",
   "execution_count": null,
   "metadata": {
    "collapsed": false
   },
   "outputs": [],
   "source": [
    "sns.countplot(data=df, x='AgeOutcomeMonth', hue='OutcomeType')\n",
    "plt.title('Age(Month) with OutcomeType')\n",
    "plt.show()"
   ]
  },
  {
   "cell_type": "code",
   "execution_count": 11,
   "metadata": {
    "collapsed": true
   },
   "outputs": [],
   "source": [
    "df['AgeOutcomeWeek'] = [x/7 for x in df['AgeuponOutcome']]"
   ]
  },
  {
   "cell_type": "code",
   "execution_count": null,
   "metadata": {
    "collapsed": false
   },
   "outputs": [],
   "source": [
    "sns.countplot(df.AgeOutcomeWeek)\n",
    "plt.title('AgeuponOutcome - Week')\n",
    "plt.show()"
   ]
  },
  {
   "cell_type": "code",
   "execution_count": 12,
   "metadata": {
    "collapsed": false
   },
   "outputs": [],
   "source": [
    "temp = df['DateTime']\n",
    "df['IntakeYear'] = [int(row[:4]) for row in temp]\n",
    "df['IntakeMonth'] = [int(row[5:7]) for row in temp]\n",
    "df['IntakeDay'] = [int(row[8:10]) for row in temp]\n",
    "df['IntakeTime'] = [int(row[11:13]) for row in temp]\n",
    "\n",
    "#     temp = int(row[11:13])\n",
    "#     if temp >= 9  and temp <= 17:\n",
    "#         df['IntakeTime'][i] = 0\n",
    "#     elif temp >= 18 and temp <= 22:\n",
    "#         df['IntakeTime'][i] = 1\n",
    "#     elif temp >= 5 and temp <= 8:\n",
    "#         df['IntakeTime'][i] = 3\n",
    "#     else:\n",
    "#         df['IntakeTime'][i] = 2\n",
    "# 09~17 : Work (0)\n",
    "# 18~22 : Dinner (1)\n",
    "# 22~04 : Dawn (2)\n",
    "# 05~08 : Commute (3)"
   ]
  },
  {
   "cell_type": "code",
   "execution_count": 13,
   "metadata": {
    "collapsed": false
   },
   "outputs": [
    {
     "data": {
      "text/html": [
       "<div>\n",
       "<table border=\"1\" class=\"dataframe\">\n",
       "  <thead>\n",
       "    <tr style=\"text-align: right;\">\n",
       "      <th></th>\n",
       "      <th>DateTime</th>\n",
       "      <th>OutcomeType</th>\n",
       "      <th>AnimalType</th>\n",
       "      <th>SexuponOutcome</th>\n",
       "      <th>AgeuponOutcome</th>\n",
       "      <th>Breed</th>\n",
       "      <th>Color</th>\n",
       "      <th>AgeOutcomeYear</th>\n",
       "      <th>AgeOutcomeMonth</th>\n",
       "      <th>AgeOutcomeWeek</th>\n",
       "      <th>IntakeYear</th>\n",
       "      <th>IntakeMonth</th>\n",
       "      <th>IntakeDay</th>\n",
       "      <th>IntakeTime</th>\n",
       "    </tr>\n",
       "  </thead>\n",
       "  <tbody>\n",
       "    <tr>\n",
       "      <th>26724</th>\n",
       "      <td>2015-05-14 11:56:00</td>\n",
       "      <td>Transfer</td>\n",
       "      <td>Cat</td>\n",
       "      <td>Intact Male</td>\n",
       "      <td>30</td>\n",
       "      <td>Domestic Shorthair Mix</td>\n",
       "      <td>Brown Tabby/White</td>\n",
       "      <td>0</td>\n",
       "      <td>1</td>\n",
       "      <td>4</td>\n",
       "      <td>2015</td>\n",
       "      <td>5</td>\n",
       "      <td>14</td>\n",
       "      <td>11</td>\n",
       "    </tr>\n",
       "    <tr>\n",
       "      <th>26725</th>\n",
       "      <td>2016-01-20 18:59:00</td>\n",
       "      <td>Transfer</td>\n",
       "      <td>Cat</td>\n",
       "      <td>Spayed Female</td>\n",
       "      <td>90</td>\n",
       "      <td>Domestic Shorthair Mix</td>\n",
       "      <td>Brown Tabby</td>\n",
       "      <td>0</td>\n",
       "      <td>3</td>\n",
       "      <td>12</td>\n",
       "      <td>2016</td>\n",
       "      <td>1</td>\n",
       "      <td>20</td>\n",
       "      <td>18</td>\n",
       "    </tr>\n",
       "    <tr>\n",
       "      <th>26726</th>\n",
       "      <td>2015-03-09 13:33:00</td>\n",
       "      <td>Adoption</td>\n",
       "      <td>Dog</td>\n",
       "      <td>Neutered Male</td>\n",
       "      <td>1460</td>\n",
       "      <td>Old English Bulldog Mix</td>\n",
       "      <td>White/Tan</td>\n",
       "      <td>4</td>\n",
       "      <td>48</td>\n",
       "      <td>208</td>\n",
       "      <td>2015</td>\n",
       "      <td>3</td>\n",
       "      <td>9</td>\n",
       "      <td>13</td>\n",
       "    </tr>\n",
       "    <tr>\n",
       "      <th>26727</th>\n",
       "      <td>2014-04-27 12:22:00</td>\n",
       "      <td>Transfer</td>\n",
       "      <td>Cat</td>\n",
       "      <td>Intact Male</td>\n",
       "      <td>28</td>\n",
       "      <td>Domestic Shorthair Mix</td>\n",
       "      <td>Black</td>\n",
       "      <td>0</td>\n",
       "      <td>0</td>\n",
       "      <td>4</td>\n",
       "      <td>2014</td>\n",
       "      <td>4</td>\n",
       "      <td>27</td>\n",
       "      <td>12</td>\n",
       "    </tr>\n",
       "    <tr>\n",
       "      <th>26728</th>\n",
       "      <td>2015-07-02 09:00:00</td>\n",
       "      <td>Transfer</td>\n",
       "      <td>Cat</td>\n",
       "      <td>Intact Male</td>\n",
       "      <td>365</td>\n",
       "      <td>Domestic Shorthair Mix</td>\n",
       "      <td>Brown Tabby/White</td>\n",
       "      <td>1</td>\n",
       "      <td>12</td>\n",
       "      <td>52</td>\n",
       "      <td>2015</td>\n",
       "      <td>7</td>\n",
       "      <td>2</td>\n",
       "      <td>9</td>\n",
       "    </tr>\n",
       "  </tbody>\n",
       "</table>\n",
       "</div>"
      ],
      "text/plain": [
       "                  DateTime OutcomeType AnimalType SexuponOutcome  \\\n",
       "26724  2015-05-14 11:56:00    Transfer        Cat    Intact Male   \n",
       "26725  2016-01-20 18:59:00    Transfer        Cat  Spayed Female   \n",
       "26726  2015-03-09 13:33:00    Adoption        Dog  Neutered Male   \n",
       "26727  2014-04-27 12:22:00    Transfer        Cat    Intact Male   \n",
       "26728  2015-07-02 09:00:00    Transfer        Cat    Intact Male   \n",
       "\n",
       "      AgeuponOutcome                    Breed              Color  \\\n",
       "26724             30   Domestic Shorthair Mix  Brown Tabby/White   \n",
       "26725             90   Domestic Shorthair Mix        Brown Tabby   \n",
       "26726           1460  Old English Bulldog Mix          White/Tan   \n",
       "26727             28   Domestic Shorthair Mix              Black   \n",
       "26728            365   Domestic Shorthair Mix  Brown Tabby/White   \n",
       "\n",
       "       AgeOutcomeYear  AgeOutcomeMonth  AgeOutcomeWeek  IntakeYear  \\\n",
       "26724               0                1               4        2015   \n",
       "26725               0                3              12        2016   \n",
       "26726               4               48             208        2015   \n",
       "26727               0                0               4        2014   \n",
       "26728               1               12              52        2015   \n",
       "\n",
       "       IntakeMonth  IntakeDay  IntakeTime  \n",
       "26724            5         14          11  \n",
       "26725            1         20          18  \n",
       "26726            3          9          13  \n",
       "26727            4         27          12  \n",
       "26728            7          2           9  "
      ]
     },
     "execution_count": 13,
     "metadata": {},
     "output_type": "execute_result"
    }
   ],
   "source": [
    "df.tail()"
   ]
  },
  {
   "cell_type": "code",
   "execution_count": null,
   "metadata": {
    "collapsed": true
   },
   "outputs": [],
   "source": []
  },
  {
   "cell_type": "code",
   "execution_count": null,
   "metadata": {
    "collapsed": false
   },
   "outputs": [],
   "source": [
    "print set(df['Color'])"
   ]
  },
  {
   "cell_type": "code",
   "execution_count": null,
   "metadata": {
    "collapsed": false
   },
   "outputs": [],
   "source": [
    "sns.countplot(df['IntakeYear'])\n",
    "plt.title('Intake per year')\n",
    "plt.show()"
   ]
  },
  {
   "cell_type": "code",
   "execution_count": null,
   "metadata": {
    "collapsed": false
   },
   "outputs": [],
   "source": [
    "sns.countplot(df['IntakeMonth'])\n",
    "plt.title('Intake per month')\n",
    "plt.show()"
   ]
  },
  {
   "cell_type": "code",
   "execution_count": null,
   "metadata": {
    "collapsed": false
   },
   "outputs": [],
   "source": [
    "sns.countplot(df['IntakeDay'])\n",
    "plt.title('Intake per day')\n",
    "plt.show()"
   ]
  },
  {
   "cell_type": "code",
   "execution_count": null,
   "metadata": {
    "collapsed": false
   },
   "outputs": [],
   "source": [
    "sns.countplot(df['IntakeTime'])\n",
    "plt.title('Intake with time')\n",
    "plt.show()"
   ]
  },
  {
   "cell_type": "code",
   "execution_count": null,
   "metadata": {
    "collapsed": false,
    "scrolled": false
   },
   "outputs": [],
   "source": [
    "sns.countplot(data=df, x='IntakeYear', hue='IntakeMonth')\n",
    "# plt.title('Age(Month) with AnimalType')\n",
    "plt.show()"
   ]
  },
  {
   "cell_type": "code",
   "execution_count": null,
   "metadata": {
    "collapsed": false
   },
   "outputs": [],
   "source": [
    "sns.countplot(data=df, x='IntakeYear', hue='OutcomeType')\n",
    "# plt.title('Age(Month) with AnimalType')\n",
    "plt.show()"
   ]
  },
  {
   "cell_type": "code",
   "execution_count": null,
   "metadata": {
    "collapsed": false
   },
   "outputs": [],
   "source": [
    "sns.countplot(data=df, x='IntakeMonth', hue='AnimalType')\n",
    "# plt.title('Age(Month) with AnimalType')\n",
    "plt.show()"
   ]
  },
  {
   "cell_type": "code",
   "execution_count": null,
   "metadata": {
    "collapsed": false,
    "scrolled": false
   },
   "outputs": [],
   "source": [
    "sns.countplot(data=df, x='IntakeMonth', hue='OutcomeType')\n",
    "# plt.title('Age(Month) with AnimalType')\n",
    "plt.show()"
   ]
  },
  {
   "cell_type": "code",
   "execution_count": null,
   "metadata": {
    "collapsed": false
   },
   "outputs": [],
   "source": [
    "temp_2 = df[df.OutcomeType=='Transfer']"
   ]
  },
  {
   "cell_type": "code",
   "execution_count": null,
   "metadata": {
    "collapsed": false
   },
   "outputs": [],
   "source": [
    "df['Color'].value_counts()[:10]"
   ]
  },
  {
   "cell_type": "code",
   "execution_count": null,
   "metadata": {
    "collapsed": false
   },
   "outputs": [],
   "source": [
    "df['Breed'].value_counts()[:10]"
   ]
  },
  {
   "cell_type": "code",
   "execution_count": null,
   "metadata": {
    "collapsed": true
   },
   "outputs": [],
   "source": [
    "temp = df[df.OutcomeType=='Transfer']"
   ]
  },
  {
   "cell_type": "code",
   "execution_count": null,
   "metadata": {
    "collapsed": true
   },
   "outputs": [],
   "source": [
    "temp = df"
   ]
  },
  {
   "cell_type": "code",
   "execution_count": null,
   "metadata": {
    "collapsed": false
   },
   "outputs": [],
   "source": [
    "temp.tail()"
   ]
  },
  {
   "cell_type": "code",
   "execution_count": null,
   "metadata": {
    "collapsed": true
   },
   "outputs": [],
   "source": [
    "temp = df"
   ]
  },
  {
   "cell_type": "code",
   "execution_count": null,
   "metadata": {
    "collapsed": false
   },
   "outputs": [],
   "source": [
    "from sklearn.preprocessing import LabelEncoder\n",
    "le = LabelEncoder()\n",
    "le.fit_transform(temp['AnimalType'])\n",
    "print 'AnimalType Encoder : {}'.format(le.classes_)\n",
    "print 'Count : {}'.format(len(le.classes_))\n",
    "le.fit_transform(temp['SexuponOutcome'])\n",
    "print 'SexuponOutcome Encoder : {}'.format(le.classes_)\n",
    "print 'Count : {}'.format(len(le.classes_))\n",
    "le.fit_transform(temp['Breed'])\n",
    "print 'Breed : {}'.format(le.classes_)\n",
    "print 'Count : {}'.format(len(le.classes_))\n",
    "le.fit_transform(temp['Color'])\n",
    "print 'Color : {}'.format(le.classes_[:10])\n",
    "print 'Count : {}'.format(len(le.classes_))\n",
    "le.fit_transform(temp['OutcomeType'])\n",
    "print 'OutcomeType : {}'.format(le.classes_)\n",
    "print 'Count : {}'.format(len(le.classes_))\n",
    "# temp['SexuponOutcome'] = LabelEncoder().fit_transform(df['SexuponOutcome'])\n",
    "# temp['Breed'] = LabelEncoder().fit_transform(df['Breed'])\n",
    "# temp['Color'] = LabelEncoder().fit_transform(df['Color'])\n",
    "# temp['OutcomeType'] = LabelEncoder().fit_transform(df['OutcomeType'])"
   ]
  },
  {
   "cell_type": "code",
   "execution_count": null,
   "metadata": {
    "collapsed": true
   },
   "outputs": [],
   "source": [
    "temp['AnimalType'] = le.fit_transform(temp['AnimalType'])\n",
    "temp['SexuponOutcome'] = le.fit_transform(temp['SexuponOutcome'])\n",
    "temp['Breed'] = le.fit_transform(temp['Breed'])\n",
    "temp['Color'] = le.fit_transform(temp['Color'])\n",
    "temp['OutcomeType'] = le.fit_transform(temp['OutcomeType'])"
   ]
  },
  {
   "cell_type": "code",
   "execution_count": null,
   "metadata": {
    "collapsed": false
   },
   "outputs": [],
   "source": [
    "df.tail()"
   ]
  },
  {
   "cell_type": "code",
   "execution_count": null,
   "metadata": {
    "collapsed": false
   },
   "outputs": [],
   "source": [
    "# import csv\n",
    "# temp.to_csv('./dataset/train_20170202.csv', sep=',')"
   ]
  },
  {
   "cell_type": "code",
   "execution_count": null,
   "metadata": {
    "collapsed": true
   },
   "outputs": [],
   "source": []
  }
 ],
 "metadata": {
  "kernelspec": {
   "display_name": "Python 2",
   "language": "python",
   "name": "python2"
  },
  "language_info": {
   "codemirror_mode": {
    "name": "ipython",
    "version": 2
   },
   "file_extension": ".py",
   "mimetype": "text/x-python",
   "name": "python",
   "nbconvert_exporter": "python",
   "pygments_lexer": "ipython2",
   "version": "2.7.12"
  }
 },
 "nbformat": 4,
 "nbformat_minor": 1
}
